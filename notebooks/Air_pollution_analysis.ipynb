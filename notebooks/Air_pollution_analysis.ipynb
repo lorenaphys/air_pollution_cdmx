{
 "cells": [
  {
   "cell_type": "code",
   "execution_count": 1,
   "id": "04175dbd",
   "metadata": {},
   "outputs": [],
   "source": [
    "import pandas as pd\n",
    "import matplotlib.pyplot as plt"
   ]
  },
  {
   "cell_type": "code",
   "execution_count": 2,
   "id": "a1696b4f",
   "metadata": {},
   "outputs": [],
   "source": [
    "CO_2018 = pd.read_excel('../data/raw/2018CO.xls')"
   ]
  },
  {
   "cell_type": "code",
   "execution_count": 3,
   "id": "91359ea5",
   "metadata": {},
   "outputs": [
    {
     "data": {
      "text/plain": [
       "(8760, 33)"
      ]
     },
     "execution_count": 3,
     "metadata": {},
     "output_type": "execute_result"
    }
   ],
   "source": [
    "CO_2018.shape"
   ]
  },
  {
   "cell_type": "code",
   "execution_count": 4,
   "id": "e4f4d960",
   "metadata": {},
   "outputs": [],
   "source": [
    "def int_to_hour(num):\n",
    "    if num < 10:\n",
    "        return '0{}:00:00'.format(num)\n",
    "    else:\n",
    "        return '{}:00:00'.format(num)"
   ]
  },
  {
   "cell_type": "code",
   "execution_count": 5,
   "id": "dd527eb4",
   "metadata": {},
   "outputs": [],
   "source": [
    "CO_2018['HORA'] = CO_2018['HORA'].apply(lambda x:int_to_hour(x-1))"
   ]
  },
  {
   "cell_type": "code",
   "execution_count": 6,
   "id": "c29d434a",
   "metadata": {},
   "outputs": [],
   "source": [
    "CO_2018['DATETIME'] = pd.to_datetime(CO_2018['FECHA'].astype(str) +' ' + CO_2018['HORA'], format = '%Y-%m-%d %H:%M:%S')"
   ]
  },
  {
   "cell_type": "code",
   "execution_count": 7,
   "id": "56743e36",
   "metadata": {},
   "outputs": [],
   "source": [
    "CO_2018.set_index('DATETIME', inplace = True)"
   ]
  },
  {
   "cell_type": "code",
   "execution_count": 8,
   "id": "47fbce22",
   "metadata": {},
   "outputs": [],
   "source": [
    "CO_2018 = CO_2018.drop(['FECHA','HORA'],axis = 1)"
   ]
  },
  {
   "cell_type": "code",
   "execution_count": 9,
   "id": "e5af6f36",
   "metadata": {},
   "outputs": [
    {
     "data": {
      "text/html": [
       "<div>\n",
       "<style scoped>\n",
       "    .dataframe tbody tr th:only-of-type {\n",
       "        vertical-align: middle;\n",
       "    }\n",
       "\n",
       "    .dataframe tbody tr th {\n",
       "        vertical-align: top;\n",
       "    }\n",
       "\n",
       "    .dataframe thead th {\n",
       "        text-align: right;\n",
       "    }\n",
       "</style>\n",
       "<table border=\"1\" class=\"dataframe\">\n",
       "  <thead>\n",
       "    <tr style=\"text-align: right;\">\n",
       "      <th></th>\n",
       "      <th>ACO</th>\n",
       "      <th>AJM</th>\n",
       "      <th>ATI</th>\n",
       "      <th>BJU</th>\n",
       "      <th>CAM</th>\n",
       "      <th>CCA</th>\n",
       "      <th>CHO</th>\n",
       "      <th>CUA</th>\n",
       "      <th>CUT</th>\n",
       "      <th>FAC</th>\n",
       "      <th>...</th>\n",
       "      <th>SAG</th>\n",
       "      <th>SFE</th>\n",
       "      <th>SJA</th>\n",
       "      <th>TAH</th>\n",
       "      <th>TLA</th>\n",
       "      <th>TLI</th>\n",
       "      <th>UAX</th>\n",
       "      <th>UIZ</th>\n",
       "      <th>VIF</th>\n",
       "      <th>XAL</th>\n",
       "    </tr>\n",
       "    <tr>\n",
       "      <th>DATETIME</th>\n",
       "      <th></th>\n",
       "      <th></th>\n",
       "      <th></th>\n",
       "      <th></th>\n",
       "      <th></th>\n",
       "      <th></th>\n",
       "      <th></th>\n",
       "      <th></th>\n",
       "      <th></th>\n",
       "      <th></th>\n",
       "      <th></th>\n",
       "      <th></th>\n",
       "      <th></th>\n",
       "      <th></th>\n",
       "      <th></th>\n",
       "      <th></th>\n",
       "      <th></th>\n",
       "      <th></th>\n",
       "      <th></th>\n",
       "      <th></th>\n",
       "      <th></th>\n",
       "    </tr>\n",
       "  </thead>\n",
       "  <tbody>\n",
       "    <tr>\n",
       "      <th>2018-01-01</th>\n",
       "      <td>0.4</td>\n",
       "      <td>0.8</td>\n",
       "      <td>0.8</td>\n",
       "      <td>0.6</td>\n",
       "      <td>-99.0</td>\n",
       "      <td>0.7</td>\n",
       "      <td>-99.0</td>\n",
       "      <td>0.5</td>\n",
       "      <td>-99</td>\n",
       "      <td>0.3</td>\n",
       "      <td>...</td>\n",
       "      <td>0.6</td>\n",
       "      <td>0.6</td>\n",
       "      <td>-99</td>\n",
       "      <td>1.5</td>\n",
       "      <td>0.4</td>\n",
       "      <td>1.1</td>\n",
       "      <td>-99.0</td>\n",
       "      <td>1.2</td>\n",
       "      <td>0.6</td>\n",
       "      <td>0.4</td>\n",
       "    </tr>\n",
       "    <tr>\n",
       "      <th>2018-01-02</th>\n",
       "      <td>0.2</td>\n",
       "      <td>0.4</td>\n",
       "      <td>0.1</td>\n",
       "      <td>0.3</td>\n",
       "      <td>-99.0</td>\n",
       "      <td>0.1</td>\n",
       "      <td>-99.0</td>\n",
       "      <td>0.1</td>\n",
       "      <td>-99</td>\n",
       "      <td>0.1</td>\n",
       "      <td>...</td>\n",
       "      <td>0.2</td>\n",
       "      <td>0.2</td>\n",
       "      <td>-99</td>\n",
       "      <td>0.1</td>\n",
       "      <td>0.0</td>\n",
       "      <td>0.2</td>\n",
       "      <td>-99.0</td>\n",
       "      <td>0.3</td>\n",
       "      <td>0.3</td>\n",
       "      <td>0.3</td>\n",
       "    </tr>\n",
       "    <tr>\n",
       "      <th>2018-01-03</th>\n",
       "      <td>0.6</td>\n",
       "      <td>0.3</td>\n",
       "      <td>0.4</td>\n",
       "      <td>0.9</td>\n",
       "      <td>-99.0</td>\n",
       "      <td>0.4</td>\n",
       "      <td>-99.0</td>\n",
       "      <td>0.1</td>\n",
       "      <td>-99</td>\n",
       "      <td>0.5</td>\n",
       "      <td>...</td>\n",
       "      <td>0.8</td>\n",
       "      <td>0.3</td>\n",
       "      <td>-99</td>\n",
       "      <td>0.6</td>\n",
       "      <td>0.6</td>\n",
       "      <td>0.9</td>\n",
       "      <td>-99.0</td>\n",
       "      <td>0.9</td>\n",
       "      <td>0.9</td>\n",
       "      <td>0.9</td>\n",
       "    </tr>\n",
       "    <tr>\n",
       "      <th>2018-01-04</th>\n",
       "      <td>0.2</td>\n",
       "      <td>0.3</td>\n",
       "      <td>0.2</td>\n",
       "      <td>0.7</td>\n",
       "      <td>-99.0</td>\n",
       "      <td>0.4</td>\n",
       "      <td>-99.0</td>\n",
       "      <td>0.2</td>\n",
       "      <td>-99</td>\n",
       "      <td>0.3</td>\n",
       "      <td>...</td>\n",
       "      <td>0.3</td>\n",
       "      <td>0.2</td>\n",
       "      <td>-99</td>\n",
       "      <td>0.4</td>\n",
       "      <td>0.1</td>\n",
       "      <td>0.5</td>\n",
       "      <td>-99.0</td>\n",
       "      <td>0.7</td>\n",
       "      <td>0.3</td>\n",
       "      <td>0.8</td>\n",
       "    </tr>\n",
       "    <tr>\n",
       "      <th>2018-01-05</th>\n",
       "      <td>0.3</td>\n",
       "      <td>0.3</td>\n",
       "      <td>0.3</td>\n",
       "      <td>1.0</td>\n",
       "      <td>-99.0</td>\n",
       "      <td>0.6</td>\n",
       "      <td>-99.0</td>\n",
       "      <td>0.2</td>\n",
       "      <td>-99</td>\n",
       "      <td>0.5</td>\n",
       "      <td>...</td>\n",
       "      <td>0.5</td>\n",
       "      <td>0.3</td>\n",
       "      <td>-99</td>\n",
       "      <td>0.6</td>\n",
       "      <td>0.4</td>\n",
       "      <td>1.0</td>\n",
       "      <td>-99.0</td>\n",
       "      <td>0.9</td>\n",
       "      <td>0.5</td>\n",
       "      <td>1.0</td>\n",
       "    </tr>\n",
       "  </tbody>\n",
       "</table>\n",
       "<p>5 rows × 31 columns</p>\n",
       "</div>"
      ],
      "text/plain": [
       "            ACO  AJM  ATI  BJU   CAM  CCA   CHO  CUA  CUT  FAC  ...  SAG  SFE  \\\n",
       "DATETIME                                                        ...             \n",
       "2018-01-01  0.4  0.8  0.8  0.6 -99.0  0.7 -99.0  0.5  -99  0.3  ...  0.6  0.6   \n",
       "2018-01-02  0.2  0.4  0.1  0.3 -99.0  0.1 -99.0  0.1  -99  0.1  ...  0.2  0.2   \n",
       "2018-01-03  0.6  0.3  0.4  0.9 -99.0  0.4 -99.0  0.1  -99  0.5  ...  0.8  0.3   \n",
       "2018-01-04  0.2  0.3  0.2  0.7 -99.0  0.4 -99.0  0.2  -99  0.3  ...  0.3  0.2   \n",
       "2018-01-05  0.3  0.3  0.3  1.0 -99.0  0.6 -99.0  0.2  -99  0.5  ...  0.5  0.3   \n",
       "\n",
       "            SJA  TAH  TLA  TLI   UAX  UIZ  VIF  XAL  \n",
       "DATETIME                                             \n",
       "2018-01-01  -99  1.5  0.4  1.1 -99.0  1.2  0.6  0.4  \n",
       "2018-01-02  -99  0.1  0.0  0.2 -99.0  0.3  0.3  0.3  \n",
       "2018-01-03  -99  0.6  0.6  0.9 -99.0  0.9  0.9  0.9  \n",
       "2018-01-04  -99  0.4  0.1  0.5 -99.0  0.7  0.3  0.8  \n",
       "2018-01-05  -99  0.6  0.4  1.0 -99.0  0.9  0.5  1.0  \n",
       "\n",
       "[5 rows x 31 columns]"
      ]
     },
     "execution_count": 9,
     "metadata": {},
     "output_type": "execute_result"
    }
   ],
   "source": [
    "CO_2018.asfreq('D').head()"
   ]
  },
  {
   "cell_type": "code",
   "execution_count": 58,
   "id": "0cfb40db",
   "metadata": {},
   "outputs": [],
   "source": [
    "prueba = CO_2018['2018-01-01 00:00:00':'2018-01-02 23:00:00']"
   ]
  },
  {
   "cell_type": "code",
   "execution_count": 61,
   "id": "2f0a7ba6",
   "metadata": {},
   "outputs": [
    {
     "data": {
      "text/plain": [
       "Int64Index([0, 0, 0, 0, 0, 0, 0, 0, 0, 0, 0, 0, 0, 0, 0, 0, 0, 0, 0, 0, 0, 0,\n",
       "            0, 0, 1, 1, 1, 1, 1, 1, 1, 1, 1, 1, 1, 1, 1, 1, 1, 1, 1, 1, 1, 1,\n",
       "            1, 1, 1, 1],\n",
       "           dtype='int64', name='DATETIME')"
      ]
     },
     "execution_count": 61,
     "metadata": {},
     "output_type": "execute_result"
    }
   ],
   "source": [
    "prueba.index.dayofweek"
   ]
  },
  {
   "cell_type": "code",
   "execution_count": 11,
   "id": "c595673b",
   "metadata": {},
   "outputs": [],
   "source": [
    "#prueba.plot(subplots = True, layout = (31,1), sharex=True, sharey=False, legend=True)\n",
    "#plt.tight_layout()\n",
    "#plt.show()"
   ]
  },
  {
   "cell_type": "code",
   "execution_count": 12,
   "id": "0becb785",
   "metadata": {},
   "outputs": [],
   "source": [
    "#fig, ax = plt.subplots()\n",
    "#ax.plot(CO_2018.index, CO_2018['ACO'])\n",
    "#plt.show"
   ]
  },
  {
   "cell_type": "code",
   "execution_count": 13,
   "id": "dc39faea",
   "metadata": {},
   "outputs": [
    {
     "data": {
      "text/plain": [
       "array(['2018-01-01T00:00:00.000000000', '2018-01-01T01:00:00.000000000',\n",
       "       '2018-01-01T02:00:00.000000000', '2018-01-01T03:00:00.000000000',\n",
       "       '2018-01-01T04:00:00.000000000', '2018-01-01T05:00:00.000000000',\n",
       "       '2018-01-01T06:00:00.000000000'], dtype='datetime64[ns]')"
      ]
     },
     "execution_count": 13,
     "metadata": {},
     "output_type": "execute_result"
    }
   ],
   "source": [
    "prueba[prueba['ACO']==max(prueba['ACO'])].index.values"
   ]
  },
  {
   "cell_type": "code",
   "execution_count": 47,
   "id": "2ea95407",
   "metadata": {},
   "outputs": [
    {
     "data": {
      "text/plain": [
       "0"
      ]
     },
     "execution_count": 47,
     "metadata": {},
     "output_type": "execute_result"
    }
   ],
   "source": [
    "CO_2018.index[0].hour"
   ]
  },
  {
   "cell_type": "code",
   "execution_count": 23,
   "id": "7ca38aec",
   "metadata": {},
   "outputs": [
    {
     "data": {
      "text/plain": [
       "[<matplotlib.lines.Line2D at 0x7f1f12536520>]"
      ]
     },
     "execution_count": 23,
     "metadata": {},
     "output_type": "execute_result"
    },
    {
     "data": {
      "image/png": "[encoded data removed]",
      "text/plain": [
       "<Figure size 432x288 with 1 Axes>"
      ]
     },
     "metadata": {
      "needs_background": "light"
     },
     "output_type": "display_data"
    }
   ],
   "source": [
    "plt.plot(CO_2018.index,CO_2018['ACO'])"
   ]
  },
  {
   "cell_type": "code",
   "execution_count": 54,
   "id": "e6e0fdbe",
   "metadata": {},
   "outputs": [
    {
     "data": {
      "text/plain": [
       "Int64Index([1, 1, 1, 1, 1, 1, 1, 1, 1, 1,\n",
       "            ...\n",
       "            4, 4, 4, 4, 4, 4, 4, 4, 4, 4],\n",
       "           dtype='int64', name='DATETIME', length=8760)"
      ]
     },
     "execution_count": 54,
     "metadata": {},
     "output_type": "execute_result"
    }
   ],
   "source": [
    "CO_2018.index.quarter"
   ]
  },
  {
   "cell_type": "markdown",
   "id": "6bb24a74",
   "metadata": {},
   "source": [
    "# Pasos a realizar:"
   ]
  },
  {
   "cell_type": "markdown",
   "id": "a9619920",
   "metadata": {},
   "source": [
    "1. Crear una función que separe en distintos rangos de tiempo a la serie\n",
    "2. Crear gráficas lineales en los distintos rangos de tiempo\n",
    "3. Analizar el momento de máxima emisión del contaminante\n",
    "4. Averiguar cómo poner esta información en un mapa de la cdmx"
   ]
  },
  {
   "cell_type": "code",
   "execution_count": null,
   "id": "608d222c",
   "metadata": {},
   "outputs": [],
   "source": []
  }
 ],
 "metadata": {
  "kernelspec": {
   "display_name": "Python 3 (ipykernel)",
   "language": "python",
   "name": "python3"
  },
  "language_info": {
   "codemirror_mode": {
    "name": "ipython",
    "version": 3
   },
   "file_extension": ".py",
   "mimetype": "text/x-python",
   "name": "python",
   "nbconvert_exporter": "python",
   "pygments_lexer": "ipython3",
   "version": "3.8.12"
  }
 },
 "nbformat": 4,
 "nbformat_minor": 5
}
